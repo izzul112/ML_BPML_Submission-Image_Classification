{
  "nbformat": 4,
  "nbformat_minor": 0,
  "metadata": {
    "colab": {
      "name": "Submission-Image_Classification.ipynb",
      "provenance": [],
      "authorship_tag": "ABX9TyOUYnqZ4LpGTV2hbBY8O+fi",
      "include_colab_link": true
    },
    "kernelspec": {
      "name": "python3",
      "display_name": "Python 3"
    }
  },
  "cells": [
    {
      "cell_type": "markdown",
      "metadata": {
        "id": "view-in-github",
        "colab_type": "text"
      },
      "source": [
        "<a href=\"https://colab.research.google.com/github/izzul112/Submission-Image_Classification/blob/master/Submission_Image_Classification.ipynb\" target=\"_parent\"><img src=\"https://colab.research.google.com/assets/colab-badge.svg\" alt=\"Open In Colab\"/></a>"
      ]
    },
    {
      "cell_type": "code",
      "metadata": {
        "id": "DQ0nImpfEWfv",
        "colab_type": "code",
        "colab": {}
      },
      "source": [
        "import tensorflow as tf\n",
        "import matplotlib.pyplot as plt\n",
        "from tensorflow.keras.optimizers import RMSprop\n",
        "from tensorflow.keras.preprocessing.image import ImageDataGenerator"
      ],
      "execution_count": 1,
      "outputs": []
    },
    {
      "cell_type": "code",
      "metadata": {
        "id": "JqeqeGtGEt3P",
        "colab_type": "code",
        "colab": {
          "base_uri": "https://localhost:8080/",
          "height": 34
        },
        "outputId": "fece0c08-eb55-4947-9adb-d2bf5f51cf57"
      },
      "source": [
        "from google.colab import drive\n",
        "drive.mount('/content/gdrive')"
      ],
      "execution_count": 2,
      "outputs": [
        {
          "output_type": "stream",
          "text": [
            "Mounted at /content/gdrive\n"
          ],
          "name": "stdout"
        }
      ]
    },
    {
      "cell_type": "code",
      "metadata": {
        "id": "l5zvRMz2I65r",
        "colab_type": "code",
        "colab": {}
      },
      "source": [
        "# melakukan ekstraksi pada file zip\n",
        "import zipfile,os\n",
        "local_zip = '/content/gdrive/My Drive/dataset/dataset.zip'\n",
        "zip_ref = zipfile.ZipFile(local_zip, 'r')\n",
        "zip_ref.extractall('/tmp')\n",
        "zip_ref.close()\n",
        "\n",
        "base_dir = '/tmp'\n",
        "train_dir = os.path.join(base_dir, 'dataset')"
      ],
      "execution_count": 3,
      "outputs": []
    },
    {
      "cell_type": "code",
      "metadata": {
        "id": "4CGUGRiNPGjY",
        "colab_type": "code",
        "colab": {
          "base_uri": "https://localhost:8080/",
          "height": 34
        },
        "outputId": "a4db64d4-fdf4-4f22-e918-977daa9db583"
      },
      "source": [
        "os.listdir('/tmp/dataset')"
      ],
      "execution_count": 4,
      "outputs": [
        {
          "output_type": "execute_result",
          "data": {
            "text/plain": [
              "['NORMAL', 'DRUSEN', 'CNV', 'DME']"
            ]
          },
          "metadata": {
            "tags": []
          },
          "execution_count": 4
        }
      ]
    },
    {
      "cell_type": "code",
      "metadata": {
        "id": "5CI_S28tSzH0",
        "colab_type": "code",
        "colab": {}
      },
      "source": [
        "# membuat direktori CNV pada direktori data training\n",
        "train_CNV_dir = os.path.join(train_dir, 'CNV')\n",
        "\n",
        "# membuat direktori DME pada direktori data training\n",
        "train_DME_dir = os.path.join(train_dir, 'DME')\n",
        "\n",
        "# membuat direktori DRUSEN pada direktori data training\n",
        "train_DRUSEN_dir = os.path.join(train_dir, 'DRUSEN')\n",
        "\n",
        "# membuat direktori NORMAL pada direktori data training\n",
        "train_NORMAL_dir = os.path.join(train_dir, 'NORMAL')\n",
        "\n",
        "# membuat direktori CNV pada direktori data validasi\n",
        "validation_CNV_dir = os.path.join(train_dir, 'CNV')\n",
        "\n",
        "# membuat direktori DME pada direktori data validasi\n",
        "validation_DME_dir = os.path.join(train_dir, 'DME')\n",
        "\n",
        "# membuat direktori DRUSEN pada direktori data validasi\n",
        "validation_DRUSEN_dir = os.path.join(train_dir, 'DRUSEN')\n",
        "\n",
        "# membuat direktori NORMAL pada direktori data validasi\n",
        "validation_NORMAL_dir = os.path.join(train_dir, 'NORMAL')"
      ],
      "execution_count": 5,
      "outputs": []
    },
    {
      "cell_type": "code",
      "metadata": {
        "id": "7NHHhKPGUi5f",
        "colab_type": "code",
        "colab": {}
      },
      "source": [
        "train_datagen = ImageDataGenerator(\n",
        "                    rescale=1./255,\n",
        "                    rotation_range=20,\n",
        "                    horizontal_flip=True,\n",
        "                    shear_range = 0.2,\n",
        "                    fill_mode = 'nearest',\n",
        "                    validation_split=0.2)"
      ],
      "execution_count": 6,
      "outputs": []
    },
    {
      "cell_type": "code",
      "metadata": {
        "id": "AmqVyZYWUkw7",
        "colab_type": "code",
        "colab": {
          "base_uri": "https://localhost:8080/",
          "height": 51
        },
        "outputId": "50fdbde9-fc70-4727-bf82-68622f3efcf0"
      },
      "source": [
        "train_generator = train_datagen.flow_from_directory(\n",
        "        train_dir,  # direktori data latih\n",
        "        target_size=(200, 300),  # mengubah resolusi seluruh gambar menjadi 150x150 piksel\n",
        "        batch_size=4,\n",
        "        # karena kita merupakan masalah klasifikasi 2 kelas lebih maka menggunakan class_mode = 'categorical'\n",
        "        class_mode=\"categorical\",\n",
        "        subset='training'\n",
        "        )\n",
        "\n",
        "validation_generator = train_datagen.flow_from_directory(\n",
        "        train_dir, # direktori data validasi\n",
        "        target_size=(200, 300), # mengubah resolusi seluruh gambar menjadi 150x150 piksel\n",
        "        batch_size=4,\n",
        "        # karena kita merupakan masalah klasifikasi 2 kelas lebih maka menggunakan class_mode = 'categorical'\n",
        "        class_mode='categorical',\n",
        "        subset='validation'\n",
        "        )"
      ],
      "execution_count": 7,
      "outputs": [
        {
          "output_type": "stream",
          "text": [
            "Found 9600 images belonging to 4 classes.\n",
            "Found 2400 images belonging to 4 classes.\n"
          ],
          "name": "stdout"
        }
      ]
    },
    {
      "cell_type": "code",
      "metadata": {
        "id": "59IsJVTbvU6i",
        "colab_type": "code",
        "colab": {}
      },
      "source": [
        "# Callback\n",
        "\n",
        "class myCallback(tf.keras.callbacks.Callback):\n",
        "  def on_epoch_end(self, epoch, logs={}):\n",
        "    if(logs.get('accuracy')>0.95):\n",
        "      print(\"\\nReached 95% accuracy so cancelling training!\")\n",
        "      self.model.stop_training = True\n",
        "\n",
        "callbacks = myCallback()"
      ],
      "execution_count": 30,
      "outputs": []
    },
    {
      "cell_type": "code",
      "metadata": {
        "id": "GV3gzeZXybh3",
        "colab_type": "code",
        "colab": {}
      },
      "source": [
        "model = tf.keras.models.Sequential([\n",
        "    tf.keras.layers.Conv2D(32, (3,3), activation='relu', input_shape=(200, 300, 3)),\n",
        "    tf.keras.layers.MaxPooling2D(2, 2),\n",
        "    tf.keras.layers.Conv2D(32, (3,3), activation='relu'),\n",
        "    tf.keras.layers.MaxPooling2D(2,2),\n",
        "    tf.keras.layers.Conv2D(64, (3,3), activation='relu'),\n",
        "    tf.keras.layers.MaxPooling2D(2,2),\n",
        "    tf.keras.layers.Conv2D(64, (3,3), activation='relu'),\n",
        "    tf.keras.layers.MaxPooling2D(2,2),\n",
        "    tf.keras.layers.Conv2D(128, (3,3), activation='relu'),\n",
        "    tf.keras.layers.MaxPooling2D(2,2),\n",
        "    tf.keras.layers.Conv2D(128, (3,3), activation='relu'),\n",
        "    tf.keras.layers.MaxPooling2D(2,2),\n",
        "    tf.keras.layers.Flatten(),\n",
        "    tf.keras.layers.Dense(128, activation='relu'),\n",
        "    tf.keras.layers.Dropout(0.5),\n",
        "    tf.keras.layers.Dense(4, activation='softmax')\n",
        "])"
      ],
      "execution_count": 31,
      "outputs": []
    },
    {
      "cell_type": "code",
      "metadata": {
        "id": "s8mO54trynXG",
        "colab_type": "code",
        "colab": {}
      },
      "source": [
        "model.compile(loss='categorical_crossentropy',\n",
        "              optimizer=tf.optimizers.RMSprop(),\n",
        "              metrics=['accuracy'])"
      ],
      "execution_count": 32,
      "outputs": []
    },
    {
      "cell_type": "code",
      "metadata": {
        "id": "kV2cRhQEyqcv",
        "colab_type": "code",
        "colab": {
          "base_uri": "https://localhost:8080/",
          "height": 697
        },
        "outputId": "4c1afe9c-0852-4a86-8465-b46d6f0c74ec"
      },
      "source": [
        "history = model.fit(\n",
        "            train_generator,\n",
        "            steps_per_epoch=25,  # berapa batch yang akan dieksekusi pada setiap epoch\n",
        "            epochs=20, \n",
        "            validation_data=validation_generator, # menampilkan akurasi pengujian data validasi\n",
        "            validation_steps=5,  # berapa batch yang akan dieksekusi pada setiap epoch\n",
        "            verbose=2, callbacks=[callbacks])"
      ],
      "execution_count": 33,
      "outputs": [
        {
          "output_type": "stream",
          "text": [
            "Epoch 1/20\n",
            "25/25 - 10s - loss: 1.4064 - accuracy: 0.2300 - val_loss: 1.3984 - val_accuracy: 0.1000\n",
            "Epoch 2/20\n",
            "25/25 - 10s - loss: 1.3921 - accuracy: 0.2600 - val_loss: 1.3863 - val_accuracy: 0.3000\n",
            "Epoch 3/20\n",
            "25/25 - 10s - loss: 1.3913 - accuracy: 0.2700 - val_loss: 1.3760 - val_accuracy: 0.2000\n",
            "Epoch 4/20\n",
            "25/25 - 10s - loss: 1.3888 - accuracy: 0.2600 - val_loss: 1.4096 - val_accuracy: 0.2500\n",
            "Epoch 5/20\n",
            "25/25 - 10s - loss: 1.3953 - accuracy: 0.2800 - val_loss: 1.3993 - val_accuracy: 0.1500\n",
            "Epoch 6/20\n",
            "25/25 - 9s - loss: 1.3921 - accuracy: 0.3200 - val_loss: 1.4054 - val_accuracy: 0.1000\n",
            "Epoch 7/20\n",
            "25/25 - 9s - loss: 1.3906 - accuracy: 0.2400 - val_loss: 1.3887 - val_accuracy: 0.2000\n",
            "Epoch 8/20\n",
            "25/25 - 9s - loss: 1.3896 - accuracy: 0.1800 - val_loss: 1.3863 - val_accuracy: 0.4000\n",
            "Epoch 9/20\n",
            "25/25 - 9s - loss: 1.3854 - accuracy: 0.3200 - val_loss: 1.3969 - val_accuracy: 0.1500\n",
            "Epoch 10/20\n",
            "25/25 - 9s - loss: 1.3846 - accuracy: 0.2800 - val_loss: 1.4100 - val_accuracy: 0.2000\n",
            "Epoch 11/20\n",
            "25/25 - 9s - loss: 1.3939 - accuracy: 0.2200 - val_loss: 1.3740 - val_accuracy: 0.3500\n",
            "Epoch 12/20\n",
            "25/25 - 9s - loss: 1.3709 - accuracy: 0.3000 - val_loss: 1.3167 - val_accuracy: 0.4500\n",
            "Epoch 13/20\n",
            "25/25 - 10s - loss: 1.3924 - accuracy: 0.2400 - val_loss: 1.4094 - val_accuracy: 0.0500\n",
            "Epoch 14/20\n",
            "25/25 - 10s - loss: 1.4023 - accuracy: 0.3400 - val_loss: 1.3140 - val_accuracy: 0.5500\n",
            "Epoch 15/20\n",
            "25/25 - 10s - loss: 1.3043 - accuracy: 0.4600 - val_loss: 1.2783 - val_accuracy: 0.3500\n",
            "Epoch 16/20\n",
            "25/25 - 10s - loss: 1.2856 - accuracy: 0.4100 - val_loss: 1.2838 - val_accuracy: 0.3000\n",
            "Epoch 17/20\n",
            "25/25 - 12s - loss: 1.2268 - accuracy: 0.4200 - val_loss: 1.2699 - val_accuracy: 0.3500\n",
            "Epoch 18/20\n",
            "25/25 - 12s - loss: 1.2162 - accuracy: 0.4200 - val_loss: 1.2647 - val_accuracy: 0.4000\n",
            "Epoch 19/20\n",
            "25/25 - 9s - loss: 1.2061 - accuracy: 0.4900 - val_loss: 1.3387 - val_accuracy: 0.3500\n",
            "Epoch 20/20\n",
            "25/25 - 10s - loss: 1.2672 - accuracy: 0.4700 - val_loss: 1.2866 - val_accuracy: 0.4500\n"
          ],
          "name": "stdout"
        }
      ]
    },
    {
      "cell_type": "code",
      "metadata": {
        "id": "6-yiic9x3vwW",
        "colab_type": "code",
        "colab": {}
      },
      "source": [
        "# summarize history for accuracy\n",
        "plt.plot(history.history['accuracy'])\n",
        "plt.plot(history.history['val_accuracy'])\n",
        "plt.title('model accuracy')\n",
        "plt.ylabel('accuracy')\n",
        "plt.xlabel('epoch')\n",
        "plt.legend(['train', 'test'], loc='upper left')\n",
        "plt.show()"
      ],
      "execution_count": null,
      "outputs": []
    },
    {
      "cell_type": "code",
      "metadata": {
        "id": "3mfV7Ua2Ad8b",
        "colab_type": "code",
        "colab": {}
      },
      "source": [
        "# summarize history for loss\n",
        "plt.plot(history.history['loss'])\n",
        "plt.plot(history.history['val_loss'])\n",
        "plt.title('model loss')\n",
        "plt.ylabel('loss')\n",
        "plt.xlabel('epoch')\n",
        "plt.legend(['train', 'test'], loc='upper left')\n",
        "plt.show()"
      ],
      "execution_count": null,
      "outputs": []
    }
  ]
}