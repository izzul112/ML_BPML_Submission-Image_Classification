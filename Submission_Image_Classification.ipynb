{
  "nbformat": 4,
  "nbformat_minor": 0,
  "metadata": {
    "colab": {
      "name": "Submission-Image_Classification.ipynb",
      "provenance": [],
      "collapsed_sections": [],
      "authorship_tag": "ABX9TyMavAkboes1u2u7KogqBXnu",
      "include_colab_link": true
    },
    "kernelspec": {
      "name": "python3",
      "display_name": "Python 3"
    },
    "accelerator": "GPU"
  },
  "cells": [
    {
      "cell_type": "markdown",
      "metadata": {
        "id": "view-in-github",
        "colab_type": "text"
      },
      "source": [
        "<a href=\"https://colab.research.google.com/github/izzul112/Submission-Image_Classification/blob/master/Submission_Image_Classification.ipynb\" target=\"_parent\"><img src=\"https://colab.research.google.com/assets/colab-badge.svg\" alt=\"Open In Colab\"/></a>"
      ]
    },
    {
      "cell_type": "code",
      "metadata": {
        "id": "DQ0nImpfEWfv"
      },
      "source": [
        "import tensorflow as tf\n",
        "import matplotlib.pyplot as plt\n",
        "from tensorflow.keras.optimizers import RMSprop\n",
        "from tensorflow.keras.preprocessing.image import ImageDataGenerator\n",
        "from tensorflow.keras.layers import Input\n",
        "from tensorflow.keras.applications import ResNet50\n",
        "from tensorflow.keras.applications import ResNet152V2"
      ],
      "execution_count": 1,
      "outputs": []
    },
    {
      "cell_type": "code",
      "metadata": {
        "id": "JqeqeGtGEt3P",
        "outputId": "d5aedd36-b2f2-481a-bf8d-75de02a394ca",
        "colab": {
          "base_uri": "https://localhost:8080/",
          "height": 34
        }
      },
      "source": [
        "from google.colab import drive\n",
        "drive.mount('/content/gdrive')"
      ],
      "execution_count": 2,
      "outputs": [
        {
          "output_type": "stream",
          "text": [
            "Mounted at /content/gdrive\n"
          ],
          "name": "stdout"
        }
      ]
    },
    {
      "cell_type": "code",
      "metadata": {
        "id": "l5zvRMz2I65r"
      },
      "source": [
        "# melakukan ekstraksi pada file zip\n",
        "import zipfile, os\n",
        "local_zip = '/content/gdrive/My Drive/dataset/train.zip'\n",
        "zip_ref = zipfile.ZipFile(local_zip, 'r')\n",
        "zip_ref.extractall('/tmp')\n",
        "zip_ref.close()\n",
        "\n",
        "base_dir = '/tmp'\n",
        "train_dir = os.path.join(base_dir, 'train')"
      ],
      "execution_count": 3,
      "outputs": []
    },
    {
      "cell_type": "code",
      "metadata": {
        "id": "4CGUGRiNPGjY",
        "outputId": "3d47a3df-7637-4509-ea9a-bdbf19e24f69",
        "colab": {
          "base_uri": "https://localhost:8080/",
          "height": 34
        }
      },
      "source": [
        "os.listdir('/tmp/train')"
      ],
      "execution_count": 4,
      "outputs": [
        {
          "output_type": "execute_result",
          "data": {
            "text/plain": [
              "['DRUSEN', 'NORMAL', 'DME', 'CNV']"
            ]
          },
          "metadata": {
            "tags": []
          },
          "execution_count": 4
        }
      ]
    },
    {
      "cell_type": "code",
      "metadata": {
        "id": "5CI_S28tSzH0"
      },
      "source": [
        "# membuat direktori CNV pada direktori data training\n",
        "train_CNV_dir = os.path.join(train_dir, 'CNV')\n",
        "\n",
        "# membuat direktori DME pada direktori data training\n",
        "train_DME_dir = os.path.join(train_dir, 'DME')\n",
        "\n",
        "# membuat direktori DRUSEN pada direktori data training\n",
        "train_DRUSEN_dir = os.path.join(train_dir, 'DRUSEN')\n",
        "\n",
        "# membuat direktori NORMAL pada direktori data training\n",
        "train_NORMAL_dir = os.path.join(train_dir, 'NORMAL')\n",
        "\n",
        "# membuat direktori CNV pada direktori data validasi\n",
        "validation_CNV_dir = os.path.join(train_dir, 'CNV')\n",
        "\n",
        "# membuat direktori DME pada direktori data validasi\n",
        "validation_DME_dir = os.path.join(train_dir, 'DME')\n",
        "\n",
        "# membuat direktori DRUSEN pada direktori data validasi\n",
        "validation_DRUSEN_dir = os.path.join(train_dir, 'DRUSEN')\n",
        "\n",
        "# membuat direktori NORMAL pada direktori data validasi\n",
        "validation_NORMAL_dir = os.path.join(train_dir, 'NORMAL')"
      ],
      "execution_count": 5,
      "outputs": []
    },
    {
      "cell_type": "code",
      "metadata": {
        "id": "7NHHhKPGUi5f"
      },
      "source": [
        "train_datagen = ImageDataGenerator(\n",
        "                    rescale=1./255,\n",
        "                    horizontal_flip=True,\n",
        "                    validation_split=0.2)\n",
        "\n",
        "val_datagen = ImageDataGenerator(\n",
        "                    rescale=1./255,\n",
        "                    validation_split=0.2)"
      ],
      "execution_count": 6,
      "outputs": []
    },
    {
      "cell_type": "code",
      "metadata": {
        "id": "AmqVyZYWUkw7",
        "outputId": "fb1d89c6-7227-492b-f297-5167e7de6de5",
        "colab": {
          "base_uri": "https://localhost:8080/",
          "height": 51
        }
      },
      "source": [
        "img_shape = (224, 224, 3)\n",
        "\n",
        "train_generator = train_datagen.flow_from_directory(\n",
        "        train_dir, \n",
        "        target_size=img_shape[:2], \n",
        "        batch_size=100,\n",
        "        class_mode=\"categorical\",\n",
        "        subset='training'\n",
        "        )\n",
        "\n",
        "validation_generator = train_datagen.flow_from_directory(\n",
        "        train_dir, \n",
        "        target_size=img_shape[:2], \n",
        "        batch_size=10,\n",
        "        class_mode='categorical',\n",
        "        subset='validation'\n",
        "        )"
      ],
      "execution_count": 7,
      "outputs": [
        {
          "output_type": "stream",
          "text": [
            "Found 66788 images belonging to 4 classes.\n",
            "Found 16696 images belonging to 4 classes.\n"
          ],
          "name": "stdout"
        }
      ]
    },
    {
      "cell_type": "code",
      "metadata": {
        "id": "59IsJVTbvU6i"
      },
      "source": [
        "# Callback\n",
        "\n",
        "class myCallback(tf.keras.callbacks.Callback):\n",
        "  def on_epoch_end(self, epoch, logs={}):\n",
        "    if(logs.get('accuracy')>=0.92 and logs.get('val_accuracy')>=0.92):\n",
        "      print(\"\\nReached 92% accuracy so cancelling training!\")\n",
        "      self.model.stop_training = True\n",
        "\n",
        "callbacks = myCallback()"
      ],
      "execution_count": 8,
      "outputs": []
    },
    {
      "cell_type": "code",
      "metadata": {
        "id": "NUlzkOKszJOe",
        "outputId": "c06e4570-24af-4a0b-9f37-ab7cb09606f3",
        "colab": {
          "base_uri": "https://localhost:8080/",
          "height": 51
        }
      },
      "source": [
        "ResNet = tf.keras.applications.ResNet50V2(input_shape=img_shape, include_top=False)"
      ],
      "execution_count": 9,
      "outputs": [
        {
          "output_type": "stream",
          "text": [
            "Downloading data from https://storage.googleapis.com/tensorflow/keras-applications/resnet/resnet50v2_weights_tf_dim_ordering_tf_kernels_notop.h5\n",
            "94674944/94668760 [==============================] - 3s 0us/step\n"
          ],
          "name": "stdout"
        }
      ]
    },
    {
      "cell_type": "code",
      "metadata": {
        "id": "GV3gzeZXybh3"
      },
      "source": [
        "tf.keras.backend.clear_session()\n",
        "\n",
        "model = tf.keras.models.Sequential([\n",
        "    ResNet,\n",
        "    tf.keras.layers.Conv2D(16, (4,4), activation='relu'),\n",
        "    tf.keras.layers.MaxPooling2D(2, 2),\n",
        "    tf.keras.layers.Flatten(),\n",
        "    tf.keras.layers.Dense(16, activation='relu'),\n",
        "    tf.keras.layers.Dense(4, activation='softmax')\n",
        "])\n",
        "\n",
        "model.layers[0].trainable = False"
      ],
      "execution_count": 10,
      "outputs": []
    },
    {
      "cell_type": "code",
      "metadata": {
        "id": "1mU3eUb-zxd_",
        "outputId": "a9b98a8b-eb3c-4433-a76a-61e3ba08f0e6",
        "colab": {
          "base_uri": "https://localhost:8080/",
          "height": 357
        }
      },
      "source": [
        "model.summary()"
      ],
      "execution_count": 11,
      "outputs": [
        {
          "output_type": "stream",
          "text": [
            "Model: \"sequential\"\n",
            "_________________________________________________________________\n",
            "Layer (type)                 Output Shape              Param #   \n",
            "=================================================================\n",
            "resnet50v2 (Functional)      (None, 7, 7, 2048)        23564800  \n",
            "_________________________________________________________________\n",
            "conv2d (Conv2D)              (None, 4, 4, 16)          524304    \n",
            "_________________________________________________________________\n",
            "max_pooling2d (MaxPooling2D) (None, 2, 2, 16)          0         \n",
            "_________________________________________________________________\n",
            "flatten (Flatten)            (None, 64)                0         \n",
            "_________________________________________________________________\n",
            "dense (Dense)                (None, 16)                1040      \n",
            "_________________________________________________________________\n",
            "dense_1 (Dense)              (None, 4)                 68        \n",
            "=================================================================\n",
            "Total params: 24,090,212\n",
            "Trainable params: 525,412\n",
            "Non-trainable params: 23,564,800\n",
            "_________________________________________________________________\n"
          ],
          "name": "stdout"
        }
      ]
    },
    {
      "cell_type": "code",
      "metadata": {
        "id": "s8mO54trynXG"
      },
      "source": [
        "model.compile(loss='categorical_crossentropy',\n",
        "              optimizer=tf.optimizers.RMSprop(),\n",
        "              metrics=['accuracy'])"
      ],
      "execution_count": 12,
      "outputs": []
    },
    {
      "cell_type": "code",
      "metadata": {
        "id": "kV2cRhQEyqcv",
        "outputId": "7ec00fa5-4c2b-4206-8c15-7e652936a36f",
        "colab": {
          "base_uri": "https://localhost:8080/",
          "height": 1000
        }
      },
      "source": [
        "history = model.fit(\n",
        "            train_generator, \n",
        "            steps_per_epoch=50, \n",
        "            epochs=200, \n",
        "            validation_data=validation_generator, \n",
        "            validation_steps=10, \n",
        "            verbose=1, callbacks=[callbacks])"
      ],
      "execution_count": 13,
      "outputs": [
        {
          "output_type": "stream",
          "text": [
            "Epoch 1/200\n",
            "50/50 [==============================] - 38s 758ms/step - loss: 1.7850 - accuracy: 0.4900 - val_loss: 1.3911 - val_accuracy: 0.2700\n",
            "Epoch 2/200\n",
            "50/50 [==============================] - 35s 708ms/step - loss: 1.0085 - accuracy: 0.6086 - val_loss: 1.3163 - val_accuracy: 0.6300\n",
            "Epoch 3/200\n",
            "50/50 [==============================] - 35s 695ms/step - loss: 0.8301 - accuracy: 0.6890 - val_loss: 0.7066 - val_accuracy: 0.6400\n",
            "Epoch 4/200\n",
            "50/50 [==============================] - 34s 690ms/step - loss: 0.7070 - accuracy: 0.7220 - val_loss: 0.9874 - val_accuracy: 0.6800\n",
            "Epoch 5/200\n",
            "50/50 [==============================] - 34s 675ms/step - loss: 0.6219 - accuracy: 0.7514 - val_loss: 0.6245 - val_accuracy: 0.7900\n",
            "Epoch 6/200\n",
            "50/50 [==============================] - 33s 665ms/step - loss: 0.6148 - accuracy: 0.7824 - val_loss: 0.5276 - val_accuracy: 0.8000\n",
            "Epoch 7/200\n",
            "50/50 [==============================] - 33s 662ms/step - loss: 0.5438 - accuracy: 0.8126 - val_loss: 0.8407 - val_accuracy: 0.7200\n",
            "Epoch 8/200\n",
            "50/50 [==============================] - 33s 656ms/step - loss: 0.5718 - accuracy: 0.7992 - val_loss: 0.4740 - val_accuracy: 0.8100\n",
            "Epoch 9/200\n",
            "50/50 [==============================] - 32s 635ms/step - loss: 0.5183 - accuracy: 0.8238 - val_loss: 0.5809 - val_accuracy: 0.8000\n",
            "Epoch 10/200\n",
            "50/50 [==============================] - 32s 642ms/step - loss: 0.4993 - accuracy: 0.8250 - val_loss: 0.4506 - val_accuracy: 0.8600\n",
            "Epoch 11/200\n",
            "50/50 [==============================] - 32s 635ms/step - loss: 0.4695 - accuracy: 0.8400 - val_loss: 0.2797 - val_accuracy: 0.9100\n",
            "Epoch 12/200\n",
            "50/50 [==============================] - 32s 640ms/step - loss: 0.4370 - accuracy: 0.8506 - val_loss: 0.5533 - val_accuracy: 0.8100\n",
            "Epoch 13/200\n",
            "50/50 [==============================] - 32s 636ms/step - loss: 0.4743 - accuracy: 0.8374 - val_loss: 0.4496 - val_accuracy: 0.8700\n",
            "Epoch 14/200\n",
            "50/50 [==============================] - 31s 619ms/step - loss: 0.4169 - accuracy: 0.8576 - val_loss: 0.5559 - val_accuracy: 0.8400\n",
            "Epoch 15/200\n",
            "50/50 [==============================] - 31s 624ms/step - loss: 0.4246 - accuracy: 0.8508 - val_loss: 0.5691 - val_accuracy: 0.8300\n",
            "Epoch 16/200\n",
            "50/50 [==============================] - 31s 612ms/step - loss: 0.4098 - accuracy: 0.8576 - val_loss: 0.4299 - val_accuracy: 0.8100\n",
            "Epoch 17/200\n",
            "50/50 [==============================] - 31s 615ms/step - loss: 0.4235 - accuracy: 0.8532 - val_loss: 0.4358 - val_accuracy: 0.8100\n",
            "Epoch 18/200\n",
            "50/50 [==============================] - 31s 617ms/step - loss: 0.3986 - accuracy: 0.8626 - val_loss: 0.5090 - val_accuracy: 0.8300\n",
            "Epoch 19/200\n",
            "50/50 [==============================] - 31s 619ms/step - loss: 0.3798 - accuracy: 0.8690 - val_loss: 0.3541 - val_accuracy: 0.8700\n",
            "Epoch 20/200\n",
            "50/50 [==============================] - 33s 662ms/step - loss: 0.3775 - accuracy: 0.8705 - val_loss: 0.4326 - val_accuracy: 0.8700\n",
            "Epoch 21/200\n",
            "50/50 [==============================] - 31s 615ms/step - loss: 0.3884 - accuracy: 0.8674 - val_loss: 0.4713 - val_accuracy: 0.8900\n",
            "Epoch 22/200\n",
            "50/50 [==============================] - 31s 613ms/step - loss: 0.3473 - accuracy: 0.8770 - val_loss: 0.4151 - val_accuracy: 0.8400\n",
            "Epoch 23/200\n",
            "50/50 [==============================] - 30s 608ms/step - loss: 0.3606 - accuracy: 0.8726 - val_loss: 0.4298 - val_accuracy: 0.8800\n",
            "Epoch 24/200\n",
            "50/50 [==============================] - 31s 611ms/step - loss: 0.3571 - accuracy: 0.8810 - val_loss: 0.4413 - val_accuracy: 0.8800\n",
            "Epoch 25/200\n",
            "50/50 [==============================] - 31s 611ms/step - loss: 0.3741 - accuracy: 0.8804 - val_loss: 0.2915 - val_accuracy: 0.9100\n",
            "Epoch 26/200\n",
            "50/50 [==============================] - 30s 609ms/step - loss: 0.3469 - accuracy: 0.8808 - val_loss: 0.4257 - val_accuracy: 0.8800\n",
            "Epoch 27/200\n",
            "50/50 [==============================] - 31s 611ms/step - loss: 0.3379 - accuracy: 0.8872 - val_loss: 0.4105 - val_accuracy: 0.8300\n",
            "Epoch 28/200\n",
            "50/50 [==============================] - 31s 612ms/step - loss: 0.3391 - accuracy: 0.8830 - val_loss: 0.3961 - val_accuracy: 0.8700\n",
            "Epoch 29/200\n",
            "50/50 [==============================] - 31s 612ms/step - loss: 0.3210 - accuracy: 0.8892 - val_loss: 0.5411 - val_accuracy: 0.8200\n",
            "Epoch 30/200\n",
            "50/50 [==============================] - 31s 611ms/step - loss: 0.3251 - accuracy: 0.8912 - val_loss: 0.3951 - val_accuracy: 0.8800\n",
            "Epoch 31/200\n",
            "50/50 [==============================] - 30s 610ms/step - loss: 0.3282 - accuracy: 0.8868 - val_loss: 0.2386 - val_accuracy: 0.9000\n",
            "Epoch 32/200\n",
            "50/50 [==============================] - 30s 610ms/step - loss: 0.3185 - accuracy: 0.8902 - val_loss: 0.4217 - val_accuracy: 0.8700\n",
            "Epoch 33/200\n",
            "50/50 [==============================] - 30s 609ms/step - loss: 0.3117 - accuracy: 0.8928 - val_loss: 0.4874 - val_accuracy: 0.8500\n",
            "Epoch 34/200\n",
            "50/50 [==============================] - 30s 607ms/step - loss: 0.3078 - accuracy: 0.8902 - val_loss: 0.2541 - val_accuracy: 0.9100\n",
            "Epoch 35/200\n",
            "50/50 [==============================] - 30s 609ms/step - loss: 0.3146 - accuracy: 0.8908 - val_loss: 0.4253 - val_accuracy: 0.8700\n",
            "Epoch 36/200\n",
            "50/50 [==============================] - 30s 607ms/step - loss: 0.2975 - accuracy: 0.8958 - val_loss: 0.5528 - val_accuracy: 0.8300\n",
            "Epoch 37/200\n",
            "50/50 [==============================] - 30s 607ms/step - loss: 0.3099 - accuracy: 0.9022 - val_loss: 0.3571 - val_accuracy: 0.9000\n",
            "Epoch 38/200\n",
            "50/50 [==============================] - 30s 608ms/step - loss: 0.2883 - accuracy: 0.9000 - val_loss: 0.6255 - val_accuracy: 0.8000\n",
            "Epoch 39/200\n",
            "50/50 [==============================] - 30s 607ms/step - loss: 0.3060 - accuracy: 0.8934 - val_loss: 0.4031 - val_accuracy: 0.8600\n",
            "Epoch 40/200\n",
            "50/50 [==============================] - 30s 608ms/step - loss: 0.2994 - accuracy: 0.8978 - val_loss: 0.5000 - val_accuracy: 0.8400\n",
            "Epoch 41/200\n",
            "50/50 [==============================] - 30s 610ms/step - loss: 0.2868 - accuracy: 0.9030 - val_loss: 0.4506 - val_accuracy: 0.8200\n",
            "Epoch 42/200\n",
            "50/50 [==============================] - 30s 607ms/step - loss: 0.2683 - accuracy: 0.9080 - val_loss: 0.3321 - val_accuracy: 0.9200\n",
            "Epoch 43/200\n",
            "50/50 [==============================] - 30s 603ms/step - loss: 0.2944 - accuracy: 0.8980 - val_loss: 0.3091 - val_accuracy: 0.8700\n",
            "Epoch 44/200\n",
            "50/50 [==============================] - 30s 605ms/step - loss: 0.2908 - accuracy: 0.9036 - val_loss: 0.3222 - val_accuracy: 0.8700\n",
            "Epoch 45/200\n",
            "50/50 [==============================] - 30s 604ms/step - loss: 0.2740 - accuracy: 0.9082 - val_loss: 0.4108 - val_accuracy: 0.8400\n",
            "Epoch 46/200\n",
            "50/50 [==============================] - 30s 602ms/step - loss: 0.2722 - accuracy: 0.9082 - val_loss: 0.4230 - val_accuracy: 0.8400\n",
            "Epoch 47/200\n",
            "50/50 [==============================] - 30s 602ms/step - loss: 0.2762 - accuracy: 0.9036 - val_loss: 0.2647 - val_accuracy: 0.9200\n",
            "Epoch 48/200\n",
            "50/50 [==============================] - 30s 605ms/step - loss: 0.2779 - accuracy: 0.9058 - val_loss: 0.4767 - val_accuracy: 0.8700\n",
            "Epoch 49/200\n",
            "50/50 [==============================] - 30s 603ms/step - loss: 0.2675 - accuracy: 0.9060 - val_loss: 0.3382 - val_accuracy: 0.8600\n",
            "Epoch 50/200\n",
            "50/50 [==============================] - 30s 603ms/step - loss: 0.2573 - accuracy: 0.9126 - val_loss: 0.4066 - val_accuracy: 0.8800\n",
            "Epoch 51/200\n",
            "50/50 [==============================] - 30s 605ms/step - loss: 0.2668 - accuracy: 0.9076 - val_loss: 0.4356 - val_accuracy: 0.8900\n",
            "Epoch 52/200\n",
            "50/50 [==============================] - 30s 604ms/step - loss: 0.2620 - accuracy: 0.9096 - val_loss: 0.3987 - val_accuracy: 0.8600\n",
            "Epoch 53/200\n",
            "50/50 [==============================] - 30s 604ms/step - loss: 0.2552 - accuracy: 0.9144 - val_loss: 0.4727 - val_accuracy: 0.8600\n",
            "Epoch 54/200\n",
            "50/50 [==============================] - 30s 607ms/step - loss: 0.2745 - accuracy: 0.9066 - val_loss: 0.3812 - val_accuracy: 0.8300\n",
            "Epoch 55/200\n",
            "50/50 [==============================] - 30s 606ms/step - loss: 0.2450 - accuracy: 0.9160 - val_loss: 0.3461 - val_accuracy: 0.8600\n",
            "Epoch 56/200\n",
            "50/50 [==============================] - 30s 607ms/step - loss: 0.2637 - accuracy: 0.9082 - val_loss: 0.3215 - val_accuracy: 0.8900\n",
            "Epoch 57/200\n",
            "50/50 [==============================] - 30s 606ms/step - loss: 0.2577 - accuracy: 0.9116 - val_loss: 0.4207 - val_accuracy: 0.8600\n",
            "Epoch 58/200\n",
            "50/50 [==============================] - 30s 605ms/step - loss: 0.2560 - accuracy: 0.9126 - val_loss: 0.3464 - val_accuracy: 0.9000\n",
            "Epoch 59/200\n",
            "50/50 [==============================] - 30s 603ms/step - loss: 0.2658 - accuracy: 0.9106 - val_loss: 0.3204 - val_accuracy: 0.8700\n",
            "Epoch 60/200\n",
            "50/50 [==============================] - 30s 604ms/step - loss: 0.2362 - accuracy: 0.9214 - val_loss: 0.4251 - val_accuracy: 0.8800\n",
            "Epoch 61/200\n",
            "50/50 [==============================] - 30s 604ms/step - loss: 0.2428 - accuracy: 0.9198 - val_loss: 0.4722 - val_accuracy: 0.8100\n",
            "Epoch 62/200\n",
            "50/50 [==============================] - 30s 605ms/step - loss: 0.2617 - accuracy: 0.9080 - val_loss: 0.3542 - val_accuracy: 0.8900\n",
            "Epoch 63/200\n",
            "50/50 [==============================] - 30s 605ms/step - loss: 0.2543 - accuracy: 0.9122 - val_loss: 0.3383 - val_accuracy: 0.8800\n",
            "Epoch 64/200\n",
            "50/50 [==============================] - 30s 607ms/step - loss: 0.2631 - accuracy: 0.9150 - val_loss: 0.2566 - val_accuracy: 0.8800\n",
            "Epoch 65/200\n",
            "50/50 [==============================] - 30s 608ms/step - loss: 0.2381 - accuracy: 0.9230 - val_loss: 0.3209 - val_accuracy: 0.8800\n",
            "Epoch 66/200\n",
            "50/50 [==============================] - 30s 607ms/step - loss: 0.2403 - accuracy: 0.9172 - val_loss: 0.5008 - val_accuracy: 0.8700\n",
            "Epoch 67/200\n",
            "50/50 [==============================] - 30s 606ms/step - loss: 0.2317 - accuracy: 0.9226 - val_loss: 0.5376 - val_accuracy: 0.8600\n",
            "Epoch 68/200\n",
            "50/50 [==============================] - 30s 606ms/step - loss: 0.2265 - accuracy: 0.9246 - val_loss: 0.4611 - val_accuracy: 0.8600\n",
            "Epoch 69/200\n",
            "50/50 [==============================] - 30s 608ms/step - loss: 0.2338 - accuracy: 0.9200 - val_loss: 0.5609 - val_accuracy: 0.8300\n",
            "Epoch 70/200\n",
            "50/50 [==============================] - 30s 606ms/step - loss: 0.2239 - accuracy: 0.9226 - val_loss: 0.3970 - val_accuracy: 0.8500\n",
            "Epoch 71/200\n",
            "50/50 [==============================] - 30s 605ms/step - loss: 0.2303 - accuracy: 0.9208 - val_loss: 0.5394 - val_accuracy: 0.8000\n",
            "Epoch 72/200\n",
            "50/50 [==============================] - 30s 605ms/step - loss: 0.2313 - accuracy: 0.9160 - val_loss: 0.6074 - val_accuracy: 0.8500\n",
            "Epoch 73/200\n",
            "50/50 [==============================] - 30s 604ms/step - loss: 0.2051 - accuracy: 0.9278 - val_loss: 0.3965 - val_accuracy: 0.8900\n",
            "Epoch 74/200\n",
            "50/50 [==============================] - 30s 608ms/step - loss: 0.2448 - accuracy: 0.9204 - val_loss: 0.2941 - val_accuracy: 0.9000\n",
            "Epoch 75/200\n",
            "50/50 [==============================] - 30s 607ms/step - loss: 0.2335 - accuracy: 0.9202 - val_loss: 0.5861 - val_accuracy: 0.8300\n",
            "Epoch 76/200\n",
            "50/50 [==============================] - 30s 606ms/step - loss: 0.2346 - accuracy: 0.9206 - val_loss: 0.3352 - val_accuracy: 0.8900\n",
            "Epoch 77/200\n",
            "50/50 [==============================] - 30s 606ms/step - loss: 0.2485 - accuracy: 0.9184 - val_loss: 0.4227 - val_accuracy: 0.8300\n",
            "Epoch 78/200\n",
            "50/50 [==============================] - 30s 607ms/step - loss: 0.2279 - accuracy: 0.9182 - val_loss: 0.3452 - val_accuracy: 0.8600\n",
            "Epoch 79/200\n",
            "50/50 [==============================] - 30s 607ms/step - loss: 0.2359 - accuracy: 0.9250 - val_loss: 0.9815 - val_accuracy: 0.8600\n",
            "Epoch 80/200\n",
            "50/50 [==============================] - 30s 607ms/step - loss: 0.2147 - accuracy: 0.9326 - val_loss: 0.4842 - val_accuracy: 0.8700\n",
            "Epoch 81/200\n",
            "50/50 [==============================] - 30s 606ms/step - loss: 0.2181 - accuracy: 0.9290 - val_loss: 0.3446 - val_accuracy: 0.9000\n",
            "Epoch 82/200\n",
            "50/50 [==============================] - 30s 607ms/step - loss: 0.2237 - accuracy: 0.9218 - val_loss: 0.4759 - val_accuracy: 0.8900\n",
            "Epoch 83/200\n",
            "50/50 [==============================] - 30s 608ms/step - loss: 0.2211 - accuracy: 0.9274 - val_loss: 0.4776 - val_accuracy: 0.8300\n",
            "Epoch 84/200\n",
            "50/50 [==============================] - 30s 605ms/step - loss: 0.2188 - accuracy: 0.9272 - val_loss: 0.4091 - val_accuracy: 0.8700\n",
            "Epoch 85/200\n",
            "50/50 [==============================] - 30s 604ms/step - loss: 0.2163 - accuracy: 0.9286 - val_loss: 0.6417 - val_accuracy: 0.7900\n",
            "Epoch 86/200\n",
            "50/50 [==============================] - 30s 605ms/step - loss: 0.2393 - accuracy: 0.9182 - val_loss: 0.4220 - val_accuracy: 0.8300\n",
            "Epoch 87/200\n",
            "50/50 [==============================] - 30s 606ms/step - loss: 0.2064 - accuracy: 0.9300 - val_loss: 0.3839 - val_accuracy: 0.8700\n",
            "Epoch 88/200\n",
            "50/50 [==============================] - 30s 604ms/step - loss: 0.2184 - accuracy: 0.9260 - val_loss: 0.2565 - val_accuracy: 0.9000\n",
            "Epoch 89/200\n",
            "50/50 [==============================] - 30s 604ms/step - loss: 0.2157 - accuracy: 0.9286 - val_loss: 0.3281 - val_accuracy: 0.8800\n",
            "Epoch 90/200\n",
            "50/50 [==============================] - 30s 605ms/step - loss: 0.2050 - accuracy: 0.9326 - val_loss: 0.3818 - val_accuracy: 0.8700\n",
            "Epoch 91/200\n",
            "50/50 [==============================] - 30s 605ms/step - loss: 0.2266 - accuracy: 0.9178 - val_loss: 0.5438 - val_accuracy: 0.8600\n",
            "Epoch 92/200\n",
            "50/50 [==============================] - 30s 607ms/step - loss: 0.2016 - accuracy: 0.9326 - val_loss: 0.5181 - val_accuracy: 0.8200\n",
            "Epoch 93/200\n",
            "50/50 [==============================] - 30s 602ms/step - loss: 0.2023 - accuracy: 0.9264 - val_loss: 0.4412 - val_accuracy: 0.9000\n",
            "Epoch 94/200\n",
            "50/50 [==============================] - 30s 603ms/step - loss: 0.2085 - accuracy: 0.9308 - val_loss: 0.4839 - val_accuracy: 0.8300\n",
            "Epoch 95/200\n",
            "50/50 [==============================] - 30s 604ms/step - loss: 0.2122 - accuracy: 0.9342 - val_loss: 0.3424 - val_accuracy: 0.8400\n",
            "Epoch 96/200\n",
            "50/50 [==============================] - 30s 603ms/step - loss: 0.2057 - accuracy: 0.9324 - val_loss: 0.3684 - val_accuracy: 0.8600\n",
            "Epoch 97/200\n",
            "50/50 [==============================] - 30s 603ms/step - loss: 0.2059 - accuracy: 0.9284 - val_loss: 0.4869 - val_accuracy: 0.8000\n",
            "Epoch 98/200\n",
            "50/50 [==============================] - 30s 605ms/step - loss: 0.1821 - accuracy: 0.9374 - val_loss: 0.3778 - val_accuracy: 0.8700\n",
            "Epoch 99/200\n",
            "50/50 [==============================] - 30s 605ms/step - loss: 0.1965 - accuracy: 0.9356 - val_loss: 0.5946 - val_accuracy: 0.8200\n",
            "Epoch 100/200\n",
            "50/50 [==============================] - 30s 607ms/step - loss: 0.1856 - accuracy: 0.9352 - val_loss: 0.4411 - val_accuracy: 0.9000\n",
            "Epoch 101/200\n",
            "50/50 [==============================] - 30s 604ms/step - loss: 0.1859 - accuracy: 0.9368 - val_loss: 0.4926 - val_accuracy: 0.8600\n",
            "Epoch 102/200\n",
            "50/50 [==============================] - 30s 606ms/step - loss: 0.1897 - accuracy: 0.9382 - val_loss: 0.2547 - val_accuracy: 0.9000\n",
            "Epoch 103/200\n",
            "50/50 [==============================] - 30s 606ms/step - loss: 0.1986 - accuracy: 0.9314 - val_loss: 0.7498 - val_accuracy: 0.8500\n",
            "Epoch 104/200\n",
            "50/50 [==============================] - 30s 603ms/step - loss: 0.1914 - accuracy: 0.9366 - val_loss: 0.3317 - val_accuracy: 0.8900\n",
            "Epoch 105/200\n",
            "50/50 [==============================] - ETA: 0s - loss: 0.1928 - accuracy: 0.9318\n",
            "Reached 92% accuracy so cancelling training!\n",
            "50/50 [==============================] - 30s 606ms/step - loss: 0.1928 - accuracy: 0.9318 - val_loss: 0.2553 - val_accuracy: 0.9300\n"
          ],
          "name": "stdout"
        }
      ]
    },
    {
      "cell_type": "code",
      "metadata": {
        "id": "6-yiic9x3vwW",
        "outputId": "dca22362-cf95-4a8e-e203-719f507cac46",
        "colab": {
          "base_uri": "https://localhost:8080/",
          "height": 295
        }
      },
      "source": [
        "# summarize history for accuracy\n",
        "plt.plot(history.history['accuracy'])\n",
        "plt.plot(history.history['val_accuracy'])\n",
        "plt.title('model accuracy')\n",
        "plt.ylabel('accuracy')\n",
        "plt.xlabel('epoch')\n",
        "plt.legend(['train', 'test'], loc='upper left')\n",
        "plt.show()"
      ],
      "execution_count": 14,
      "outputs": [
        {
          "output_type": "display_data",
          "data": {
            "image/png": "[encoded data removed]",
            "text/plain": [
              "<Figure size 432x288 with 1 Axes>"
            ]
          },
          "metadata": {
            "tags": [],
            "needs_background": "light"
          }
        }
      ]
    },
    {
      "cell_type": "code",
      "metadata": {
        "id": "3mfV7Ua2Ad8b",
        "outputId": "5c17e3e2-330f-4c89-dd83-0babf8b8663d",
        "colab": {
          "base_uri": "https://localhost:8080/",
          "height": 295
        }
      },
      "source": [
        "# summarize history for loss\n",
        "plt.plot(history.history['loss'])\n",
        "plt.plot(history.history['val_loss'])\n",
        "plt.title('model loss')\n",
        "plt.ylabel('loss')\n",
        "plt.xlabel('epoch')\n",
        "plt.legend(['train', 'test'], loc='upper left')\n",
        "plt.show()"
      ],
      "execution_count": 15,
      "outputs": [
        {
          "output_type": "display_data",
          "data": {
            "image/png": "[encoded data removed]",
            "text/plain": [
              "<Figure size 432x288 with 1 Axes>"
            ]
          },
          "metadata": {
            "tags": [],
            "needs_background": "light"
          }
        }
      ]
    },
    {
      "cell_type": "code",
      "metadata": {
        "id": "EV6zwQlMMdik",
        "outputId": "859a6512-9f8c-4db1-8c39-d4d1234f9fea",
        "colab": {
          "base_uri": "https://localhost:8080/",
          "height": 156
        }
      },
      "source": [
        "# Konversi model.\n",
        "converter = tf.lite.TFLiteConverter.from_keras_model(model)\n",
        "tflite_model = converter.convert()"
      ],
      "execution_count": 16,
      "outputs": [
        {
          "output_type": "stream",
          "text": [
            "WARNING:tensorflow:From /usr/local/lib/python3.6/dist-packages/tensorflow/python/training/tracking/tracking.py:111: Model.state_updates (from tensorflow.python.keras.engine.training) is deprecated and will be removed in a future version.\n",
            "Instructions for updating:\n",
            "This property should not be used in TensorFlow 2.0, as updates are applied automatically.\n",
            "WARNING:tensorflow:From /usr/local/lib/python3.6/dist-packages/tensorflow/python/training/tracking/tracking.py:111: Layer.updates (from tensorflow.python.keras.engine.base_layer) is deprecated and will be removed in a future version.\n",
            "Instructions for updating:\n",
            "This property should not be used in TensorFlow 2.0, as updates are applied automatically.\n",
            "INFO:tensorflow:Assets written to: /tmp/tmpeuzajqc4/assets\n"
          ],
          "name": "stdout"
        }
      ]
    },
    {
      "cell_type": "code",
      "metadata": {
        "id": "L3XyXBxcMhSs"
      },
      "source": [
        "with tf.io.gfile.GFile('model.tflite', 'wb') as f:\n",
        "  f.write(tflite_model)"
      ],
      "execution_count": 17,
      "outputs": []
    }
  ]
}