{
  "nbformat": 4,
  "nbformat_minor": 0,
  "metadata": {
    "colab": {
      "name": "Submission-Image_Classification.ipynb",
      "provenance": [],
      "collapsed_sections": [],
      "authorship_tag": "ABX9TyOBEEjTokXkLJUywJ4iywcl",
      "include_colab_link": true
    },
    "kernelspec": {
      "name": "python3",
      "display_name": "Python 3"
    }
  },
  "cells": [
    {
      "cell_type": "markdown",
      "metadata": {
        "id": "view-in-github",
        "colab_type": "text"
      },
      "source": [
        "<a href=\"https://colab.research.google.com/github/izzul112/Submission-Image_Classification/blob/master/Submission_Image_Classification.ipynb\" target=\"_parent\"><img src=\"https://colab.research.google.com/assets/colab-badge.svg\" alt=\"Open In Colab\"/></a>"
      ]
    },
    {
      "cell_type": "code",
      "metadata": {
        "id": "DQ0nImpfEWfv"
      },
      "source": [
        "import tensorflow as tf\n",
        "import matplotlib.pyplot as plt\n",
        "from tensorflow.keras.optimizers import RMSprop\n",
        "from tensorflow.keras.preprocessing.image import ImageDataGenerator\n",
        "from tensorflow.keras.layers import Input\n",
        "from tensorflow.keras.applications import ResNet50\n",
        "from tensorflow.keras.applications import ResNet152V2"
      ],
      "execution_count": 1,
      "outputs": []
    },
    {
      "cell_type": "code",
      "metadata": {
        "id": "JqeqeGtGEt3P",
        "outputId": "6007aee9-9b3b-4f69-8574-a4d2af19c4eb",
        "colab": {
          "base_uri": "https://localhost:8080/",
          "height": 34
        }
      },
      "source": [
        "from google.colab import drive\n",
        "drive.mount('/content/gdrive')"
      ],
      "execution_count": 2,
      "outputs": [
        {
          "output_type": "stream",
          "text": [
            "Mounted at /content/gdrive\n"
          ],
          "name": "stdout"
        }
      ]
    },
    {
      "cell_type": "code",
      "metadata": {
        "id": "l5zvRMz2I65r"
      },
      "source": [
        "# melakukan ekstraksi pada file zip\n",
        "import zipfile, os\n",
        "local_zip = '/content/gdrive/My Drive/dataset/train.zip'\n",
        "zip_ref = zipfile.ZipFile(local_zip, 'r')\n",
        "zip_ref.extractall('/tmp')\n",
        "zip_ref.close()\n",
        "\n",
        "base_dir = '/tmp'\n",
        "train_dir = os.path.join(base_dir, 'train')"
      ],
      "execution_count": 3,
      "outputs": []
    },
    {
      "cell_type": "code",
      "metadata": {
        "id": "4CGUGRiNPGjY",
        "outputId": "8d8fee96-194f-4b4c-b40d-2354270151c1",
        "colab": {
          "base_uri": "https://localhost:8080/",
          "height": 34
        }
      },
      "source": [
        "os.listdir('/tmp/train')"
      ],
      "execution_count": 4,
      "outputs": [
        {
          "output_type": "execute_result",
          "data": {
            "text/plain": [
              "['NORMAL', 'DME', 'CNV', 'DRUSEN']"
            ]
          },
          "metadata": {
            "tags": []
          },
          "execution_count": 4
        }
      ]
    },
    {
      "cell_type": "code",
      "metadata": {
        "id": "5CI_S28tSzH0"
      },
      "source": [
        "# membuat direktori CNV pada direktori data training\n",
        "train_CNV_dir = os.path.join(train_dir, 'CNV')\n",
        "\n",
        "# membuat direktori DME pada direktori data training\n",
        "train_DME_dir = os.path.join(train_dir, 'DME')\n",
        "\n",
        "# membuat direktori DRUSEN pada direktori data training\n",
        "train_DRUSEN_dir = os.path.join(train_dir, 'DRUSEN')\n",
        "\n",
        "# membuat direktori NORMAL pada direktori data training\n",
        "train_NORMAL_dir = os.path.join(train_dir, 'NORMAL')\n",
        "\n",
        "# membuat direktori CNV pada direktori data validasi\n",
        "validation_CNV_dir = os.path.join(train_dir, 'CNV')\n",
        "\n",
        "# membuat direktori DME pada direktori data validasi\n",
        "validation_DME_dir = os.path.join(train_dir, 'DME')\n",
        "\n",
        "# membuat direktori DRUSEN pada direktori data validasi\n",
        "validation_DRUSEN_dir = os.path.join(train_dir, 'DRUSEN')\n",
        "\n",
        "# membuat direktori NORMAL pada direktori data validasi\n",
        "validation_NORMAL_dir = os.path.join(train_dir, 'NORMAL')"
      ],
      "execution_count": 5,
      "outputs": []
    },
    {
      "cell_type": "code",
      "metadata": {
        "id": "7NHHhKPGUi5f"
      },
      "source": [
        "train_datagen = ImageDataGenerator(\n",
        "                    rescale=1./255,\n",
        "                    rotation_range=20,\n",
        "                    horizontal_flip=True,\n",
        "                    shear_range = 0.2,\n",
        "                    fill_mode = 'nearest',\n",
        "                    validation_split=0.2)\n",
        "\n",
        "val_datagen = ImageDataGenerator(\n",
        "                    rescale=1./255,\n",
        "                    validation_split=0.2)"
      ],
      "execution_count": 6,
      "outputs": []
    },
    {
      "cell_type": "code",
      "metadata": {
        "id": "AmqVyZYWUkw7",
        "outputId": "251c70fb-c4b1-405e-a8ee-6f0bc45c8a39",
        "colab": {
          "base_uri": "https://localhost:8080/",
          "height": 51
        }
      },
      "source": [
        "train_generator = train_datagen.flow_from_directory(\n",
        "        train_dir,  # direktori data latih\n",
        "        target_size=(200, 300),  # mengubah resolusi seluruh gambar menjadi 150x150 piksel\n",
        "        batch_size=4,\n",
        "        # karena kita merupakan masalah klasifikasi 2 kelas lebih maka menggunakan class_mode = 'categorical'\n",
        "        class_mode=\"categorical\",\n",
        "        subset='training'\n",
        "        )\n",
        "\n",
        "validation_generator = train_datagen.flow_from_directory(\n",
        "        train_dir, # direktori data validasi\n",
        "        target_size=(200, 300), # mengubah resolusi seluruh gambar menjadi 150x150 piksel\n",
        "        batch_size=4,\n",
        "        # karena kita merupakan masalah klasifikasi 2 kelas lebih maka menggunakan class_mode = 'categorical'\n",
        "        class_mode='categorical',\n",
        "        subset='validation'\n",
        "        )"
      ],
      "execution_count": 7,
      "outputs": [
        {
          "output_type": "stream",
          "text": [
            "Found 66788 images belonging to 4 classes.\n",
            "Found 16696 images belonging to 4 classes.\n"
          ],
          "name": "stdout"
        }
      ]
    },
    {
      "cell_type": "code",
      "metadata": {
        "id": "59IsJVTbvU6i"
      },
      "source": [
        "# Callback\n",
        "\n",
        "class myCallback(tf.keras.callbacks.Callback):\n",
        "  def on_epoch_end(self, epoch, logs={}):\n",
        "    if(logs.get('accuracy') and logs.get('val_accuracy')>0.93):\n",
        "      print(\"\\nReached 93% accuracy so cancelling training!\")\n",
        "      self.model.stop_training = True\n",
        "\n",
        "callbacks = myCallback()"
      ],
      "execution_count": 8,
      "outputs": []
    },
    {
      "cell_type": "code",
      "metadata": {
        "id": "GV3gzeZXybh3",
        "outputId": "38df5737-ee69-49b4-e4e0-57a0832e5c53",
        "colab": {
          "base_uri": "https://localhost:8080/",
          "height": 51
        }
      },
      "source": [
        "model = tf.keras.models.Sequential([\n",
        "    ResNet152V2(weights=\"imagenet\", include_top=False, input_tensor=Input(shape=(200, 300, 3))),\n",
        "    # tf.keras.layers.Conv2D(32, (3,3), activation='relu', input_shape=(200, 300, 3)),\n",
        "    # tf.keras.layers.MaxPooling2D(2, 2),\n",
        "    # tf.keras.layers.Conv2D(32, (3,3), activation='relu'),\n",
        "    # tf.keras.layers.MaxPooling2D(2,2),\n",
        "    # tf.keras.layers.Conv2D(64, (3,3), activation='relu'),\n",
        "    # tf.keras.layers.MaxPooling2D(2,2),\n",
        "    # tf.keras.layers.Conv2D(64, (3,3), activation='relu'),\n",
        "    # tf.keras.layers.MaxPooling2D(2,2),\n",
        "    # tf.keras.layers.Conv2D(128, (3,3), activation='relu'),\n",
        "    # tf.keras.layers.MaxPooling2D(2,2),\n",
        "    # tf.keras.layers.Conv2D(128, (3,3), activation='relu'),\n",
        "    # tf.keras.layers.MaxPooling2D(2,2),\n",
        "    tf.keras.layers.Flatten(),\n",
        "    tf.keras.layers.Dense(1024, activation='relu'),\n",
        "    # tf.keras.layers.Dropout(0.2),\n",
        "    tf.keras.layers.Dense(1024, activation='relu'),\n",
        "    tf.keras.layers.Dense(1024, activation='relu'),\n",
        "    # tf.keras.layers.Dropout(0.5),\n",
        "    tf.keras.layers.Dense(4, activation='softmax')\n",
        "])\n",
        "\n",
        "model.layers[0].trainable = False"
      ],
      "execution_count": 9,
      "outputs": [
        {
          "output_type": "stream",
          "text": [
            "Downloading data from https://storage.googleapis.com/tensorflow/keras-applications/resnet/resnet152v2_weights_tf_dim_ordering_tf_kernels_notop.h5\n",
            "234553344/234545216 [==============================] - 2s 0us/step\n"
          ],
          "name": "stdout"
        }
      ]
    },
    {
      "cell_type": "code",
      "metadata": {
        "id": "s8mO54trynXG"
      },
      "source": [
        "model.compile(loss='categorical_crossentropy',\n",
        "              optimizer=tf.optimizers.RMSprop(),\n",
        "              metrics=['accuracy'])"
      ],
      "execution_count": 10,
      "outputs": []
    },
    {
      "cell_type": "code",
      "metadata": {
        "id": "kV2cRhQEyqcv",
        "outputId": "7ea0dae6-9333-43fa-f3dd-744fe37785ec",
        "colab": {
          "base_uri": "https://localhost:8080/",
          "height": 1000
        }
      },
      "source": [
        "history = model.fit(\n",
        "            train_generator,\n",
        "            steps_per_epoch=25,  # berapa batch yang akan dieksekusi pada setiap epoch\n",
        "            epochs=50, \n",
        "            batch_size=128,\n",
        "            validation_data=validation_generator, # menampilkan akurasi pengujian data validasi\n",
        "            validation_steps=5,  # berapa batch yang akan dieksekusi pada setiap epoch\n",
        "            verbose=2, callbacks=[callbacks])"
      ],
      "execution_count": 11,
      "outputs": [
        {
          "output_type": "stream",
          "text": [
            "Epoch 1/50\n",
            "25/25 - 93s - loss: 111.8017 - accuracy: 0.3200 - val_loss: 8.7058 - val_accuracy: 0.4000\n",
            "Epoch 2/50\n",
            "25/25 - 95s - loss: 6.5771 - accuracy: 0.5200 - val_loss: 7.4760 - val_accuracy: 0.4500\n",
            "Epoch 3/50\n",
            "25/25 - 94s - loss: 5.2458 - accuracy: 0.4400 - val_loss: 2.7952 - val_accuracy: 0.4000\n",
            "Epoch 4/50\n",
            "25/25 - 95s - loss: 4.8228 - accuracy: 0.4400 - val_loss: 4.3320 - val_accuracy: 0.7000\n",
            "Epoch 5/50\n",
            "25/25 - 97s - loss: 2.8705 - accuracy: 0.6100 - val_loss: 1.5631 - val_accuracy: 0.8500\n",
            "Epoch 6/50\n",
            "25/25 - 94s - loss: 3.5765 - accuracy: 0.5000 - val_loss: 3.2620 - val_accuracy: 0.3000\n",
            "Epoch 7/50\n",
            "25/25 - 93s - loss: 3.4578 - accuracy: 0.5400 - val_loss: 1.4023 - val_accuracy: 0.6000\n",
            "Epoch 8/50\n",
            "25/25 - 94s - loss: 2.2849 - accuracy: 0.5900 - val_loss: 3.1271 - val_accuracy: 0.5500\n",
            "Epoch 9/50\n",
            "25/25 - 97s - loss: 3.1077 - accuracy: 0.5800 - val_loss: 3.6738 - val_accuracy: 0.4500\n",
            "Epoch 10/50\n",
            "25/25 - 95s - loss: 2.4081 - accuracy: 0.5400 - val_loss: 3.7306 - val_accuracy: 0.5000\n",
            "Epoch 11/50\n",
            "25/25 - 92s - loss: 2.4270 - accuracy: 0.6300 - val_loss: 7.5108 - val_accuracy: 0.5500\n",
            "Epoch 12/50\n",
            "25/25 - 94s - loss: 2.6296 - accuracy: 0.6100 - val_loss: 1.4544 - val_accuracy: 0.6500\n",
            "Epoch 13/50\n",
            "25/25 - 93s - loss: 1.6317 - accuracy: 0.6800 - val_loss: 1.9950 - val_accuracy: 0.4000\n",
            "Epoch 14/50\n",
            "25/25 - 92s - loss: 1.7745 - accuracy: 0.6000 - val_loss: 0.6754 - val_accuracy: 0.8000\n",
            "Epoch 15/50\n",
            "25/25 - 94s - loss: 1.8790 - accuracy: 0.5400 - val_loss: 0.9406 - val_accuracy: 0.6500\n",
            "Epoch 16/50\n",
            "25/25 - 93s - loss: 1.9340 - accuracy: 0.5900 - val_loss: 2.2104 - val_accuracy: 0.6000\n",
            "Epoch 17/50\n",
            "25/25 - 93s - loss: 2.7045 - accuracy: 0.5500 - val_loss: 3.3258 - val_accuracy: 0.7000\n",
            "Epoch 18/50\n",
            "25/25 - 92s - loss: 3.0535 - accuracy: 0.5100 - val_loss: 1.0654 - val_accuracy: 0.5500\n",
            "Epoch 19/50\n",
            "25/25 - 93s - loss: 1.9047 - accuracy: 0.7000 - val_loss: 2.3935 - val_accuracy: 0.5000\n",
            "Epoch 20/50\n",
            "25/25 - 94s - loss: 3.0954 - accuracy: 0.5400 - val_loss: 1.8967 - val_accuracy: 0.6000\n",
            "Epoch 21/50\n",
            "25/25 - 99s - loss: 1.8881 - accuracy: 0.6800 - val_loss: 0.4210 - val_accuracy: 0.8500\n",
            "Epoch 22/50\n",
            "25/25 - 94s - loss: 2.7310 - accuracy: 0.5000 - val_loss: 1.5204 - val_accuracy: 0.6000\n",
            "Epoch 23/50\n",
            "25/25 - 95s - loss: 1.9342 - accuracy: 0.5500 - val_loss: 1.4811 - val_accuracy: 0.6000\n",
            "Epoch 24/50\n",
            "25/25 - 95s - loss: 2.3741 - accuracy: 0.6600 - val_loss: 1.5180 - val_accuracy: 0.5500\n",
            "Epoch 25/50\n",
            "25/25 - 94s - loss: 1.9485 - accuracy: 0.5500 - val_loss: 3.1719 - val_accuracy: 0.6000\n",
            "Epoch 26/50\n",
            "25/25 - 93s - loss: 1.3066 - accuracy: 0.6100 - val_loss: 1.3915 - val_accuracy: 0.7500\n",
            "Epoch 27/50\n",
            "25/25 - 92s - loss: 1.6157 - accuracy: 0.5900 - val_loss: 1.4770 - val_accuracy: 0.7000\n",
            "Epoch 28/50\n",
            "25/25 - 95s - loss: 1.6078 - accuracy: 0.5900 - val_loss: 3.2167 - val_accuracy: 0.6500\n",
            "Epoch 29/50\n",
            "25/25 - 92s - loss: 1.7536 - accuracy: 0.6000 - val_loss: 0.8091 - val_accuracy: 0.8500\n",
            "Epoch 30/50\n",
            "25/25 - 91s - loss: 1.4515 - accuracy: 0.6000 - val_loss: 2.3590 - val_accuracy: 0.6500\n",
            "Epoch 31/50\n",
            "25/25 - 91s - loss: 1.8685 - accuracy: 0.5400 - val_loss: 0.7292 - val_accuracy: 0.6500\n",
            "Epoch 32/50\n",
            "25/25 - 93s - loss: 1.5243 - accuracy: 0.5400 - val_loss: 2.3098 - val_accuracy: 0.5000\n",
            "Epoch 33/50\n",
            "25/25 - 94s - loss: 1.4469 - accuracy: 0.6000 - val_loss: 0.9627 - val_accuracy: 0.7500\n",
            "Epoch 34/50\n",
            "25/25 - 93s - loss: 1.1350 - accuracy: 0.5500 - val_loss: 3.8125 - val_accuracy: 0.4000\n",
            "Epoch 35/50\n",
            "25/25 - 94s - loss: 1.7296 - accuracy: 0.5900 - val_loss: 0.9342 - val_accuracy: 0.6500\n",
            "Epoch 36/50\n",
            "25/25 - 96s - loss: 2.0652 - accuracy: 0.5600 - val_loss: 0.5709 - val_accuracy: 0.8000\n",
            "Epoch 37/50\n",
            "25/25 - 93s - loss: 1.6006 - accuracy: 0.5500 - val_loss: 1.4757 - val_accuracy: 0.5000\n",
            "Epoch 38/50\n",
            "25/25 - 94s - loss: 1.0187 - accuracy: 0.7300 - val_loss: 0.8333 - val_accuracy: 0.6500\n",
            "Epoch 39/50\n",
            "25/25 - 95s - loss: 1.6022 - accuracy: 0.5500 - val_loss: 1.6364 - val_accuracy: 0.5000\n",
            "Epoch 40/50\n",
            "25/25 - 92s - loss: 1.4553 - accuracy: 0.6200 - val_loss: 1.2686 - val_accuracy: 0.6000\n",
            "Epoch 41/50\n",
            "25/25 - 92s - loss: 2.1100 - accuracy: 0.5500 - val_loss: 1.0892 - val_accuracy: 0.5000\n",
            "Epoch 42/50\n",
            "25/25 - 93s - loss: 1.3725 - accuracy: 0.6000 - val_loss: 0.4921 - val_accuracy: 0.7000\n",
            "Epoch 43/50\n",
            "25/25 - 97s - loss: 1.4182 - accuracy: 0.7000 - val_loss: 3.1155 - val_accuracy: 0.4500\n",
            "Epoch 44/50\n",
            "25/25 - 95s - loss: 1.2408 - accuracy: 0.7100 - val_loss: 1.8057 - val_accuracy: 0.6500\n",
            "Epoch 45/50\n",
            "25/25 - 93s - loss: 1.2771 - accuracy: 0.6300 - val_loss: 2.8021 - val_accuracy: 0.5000\n",
            "Epoch 46/50\n",
            "25/25 - 94s - loss: 1.3116 - accuracy: 0.6300 - val_loss: 2.6705 - val_accuracy: 0.5500\n",
            "Epoch 47/50\n",
            "25/25 - 92s - loss: 1.3497 - accuracy: 0.6400 - val_loss: 0.7101 - val_accuracy: 0.7500\n",
            "Epoch 48/50\n",
            "25/25 - 95s - loss: 1.6538 - accuracy: 0.6000 - val_loss: 0.9944 - val_accuracy: 0.6500\n",
            "Epoch 49/50\n",
            "25/25 - 94s - loss: 1.4359 - accuracy: 0.6100 - val_loss: 0.5603 - val_accuracy: 0.8000\n",
            "Epoch 50/50\n",
            "25/25 - 94s - loss: 1.5886 - accuracy: 0.6300 - val_loss: 0.8297 - val_accuracy: 0.5500\n"
          ],
          "name": "stdout"
        }
      ]
    },
    {
      "cell_type": "code",
      "metadata": {
        "id": "6-yiic9x3vwW",
        "outputId": "d2b22fd4-747c-4843-9a0f-03d24e59200a",
        "colab": {
          "base_uri": "https://localhost:8080/",
          "height": 295
        }
      },
      "source": [
        "# summarize history for accuracy\n",
        "plt.plot(history.history['accuracy'])\n",
        "plt.plot(history.history['val_accuracy'])\n",
        "plt.title('model accuracy')\n",
        "plt.ylabel('accuracy')\n",
        "plt.xlabel('epoch')\n",
        "plt.legend(['train', 'test'], loc='upper left')\n",
        "plt.show()"
      ],
      "execution_count": 12,
      "outputs": [
        {
          "output_type": "display_data",
          "data": {
            "image/png": "[encoded data removed]",
            "text/plain": [
              "<Figure size 432x288 with 1 Axes>"
            ]
          },
          "metadata": {
            "tags": [],
            "needs_background": "light"
          }
        }
      ]
    },
    {
      "cell_type": "code",
      "metadata": {
        "id": "3mfV7Ua2Ad8b",
        "outputId": "51341c55-b39b-4f8d-e42a-17bf8f8dd968",
        "colab": {
          "base_uri": "https://localhost:8080/",
          "height": 295
        }
      },
      "source": [
        "# summarize history for loss\n",
        "plt.plot(history.history['loss'])\n",
        "plt.plot(history.history['val_loss'])\n",
        "plt.title('model loss')\n",
        "plt.ylabel('loss')\n",
        "plt.xlabel('epoch')\n",
        "plt.legend(['train', 'test'], loc='upper left')\n",
        "plt.show()"
      ],
      "execution_count": 13,
      "outputs": [
        {
          "output_type": "display_data",
          "data": {
            "image/png": "[encoded data removed]",
            "text/plain": [
              "<Figure size 432x288 with 1 Axes>"
            ]
          },
          "metadata": {
            "tags": [],
            "needs_background": "light"
          }
        }
      ]
    },
    {
      "cell_type": "code",
      "metadata": {
        "id": "EV6zwQlMMdik"
      },
      "source": [
        "# # Konversi model.\n",
        "# converter = tf.lite.TFLiteConverter.from_keras_model(model)\n",
        "# tflite_model = converter.convert()"
      ],
      "execution_count": 14,
      "outputs": []
    },
    {
      "cell_type": "code",
      "metadata": {
        "id": "L3XyXBxcMhSs"
      },
      "source": [
        "# with tf.io.gfile.GFile('model.tflite', 'wb') as f:\n",
        "#   f.write(tflite_model)"
      ],
      "execution_count": 15,
      "outputs": []
    }
  ]
}